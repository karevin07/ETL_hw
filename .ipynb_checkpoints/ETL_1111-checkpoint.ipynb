{
 "cells": [
  {
   "cell_type": "markdown",
   "metadata": {},
   "source": [
    "# 1111 爬蟲\n"
   ]
  },
  {
   "cell_type": "code",
   "execution_count": 25,
   "metadata": {},
   "outputs": [],
   "source": [
    "import requests\n",
    "import json\n",
    "import re\n",
    "import csv\n",
    "from bs4 import BeautifulSoup\n",
    "import time\n",
    "\n",
    "job_url = 'https://www.1111.com.tw/job-bank/job-index.asp?si=1&ks={}&page={}'\n",
    "\n",
    "DATA_PATH = '/tmp/hw_data'\n",
    "filelist = []\n",
    "words = []"
   ]
  },
  {
   "cell_type": "markdown",
   "metadata": {},
   "source": [
    "# 抓出單頁\n"
   ]
  },
  {
   "cell_type": "code",
   "execution_count": 26,
   "metadata": {},
   "outputs": [],
   "source": [
    "def get_list_page(url):\n",
    "    \n",
    "    HOST = 'https:'\n",
    "    resp = requests.get(url)\n",
    "    links = re.findall('<a href=\"(//www.1111.com.tw/job/.+/)\" .+>.+</a>', resp.text)\n",
    "    detail_page_links = [HOST + link for link in links]\n",
    "    return detail_page_links    "
   ]
  },
  {
   "cell_type": "code",
   "execution_count": 2,
   "metadata": {},
   "outputs": [],
   "source": [
    "!mkdir /tmp/hw_data"
   ]
  },
  {
   "cell_type": "code",
   "execution_count": 1,
   "metadata": {},
   "outputs": [],
   "source": [
    "! rm -r -f /tmp/hw_data"
   ]
  },
  {
   "cell_type": "code",
   "execution_count": 27,
   "metadata": {},
   "outputs": [],
   "source": [
    "def dump_page(url):  \n",
    "    filename = url.split('/')[-2]\n",
    "    resp = requests.get(url)\n",
    "    with open(DATA_PATH + '/' + filename, 'w') as f:\n",
    "        f.write(resp.text)\n",
    "    return filename"
   ]
  },
  {
   "cell_type": "code",
   "execution_count": 28,
   "metadata": {},
   "outputs": [],
   "source": [
    "def get_list(url):\n",
    "    filename = url.split('/')[-2]\n",
    "    filelist.append(filename)"
   ]
  },
  {
   "cell_type": "code",
   "execution_count": 29,
   "metadata": {},
   "outputs": [],
   "source": [
    "def do_page(num1 ,a):   \n",
    "    print('職缺 '+a)\n",
    "    print('共抓'+str(num1)+'頁')\n",
    "    count = 0\n",
    "    filelist = []\n",
    "    start = time.time()\n",
    "    for page in range(num1) :\n",
    "        the_url = job_url.format(a,page+1)\n",
    "        for link in get_list_page(the_url):\n",
    "            dump_page(link)\n",
    "            count+=1\n",
    "            get_list(link)\n",
    "    end = time.time()\n",
    "    elapsed = end - start\n",
    "    print('共'+str(count)+'筆職缺')\n",
    "    print(\"花費\", elapsed, \"秒\")"
   ]
  },
  {
   "cell_type": "code",
   "execution_count": 31,
   "metadata": {},
   "outputs": [
    {
     "name": "stdout",
     "output_type": "stream",
     "text": [
      "職缺 軟體\n",
      "共抓5頁\n",
      "共94筆職缺\n",
      "花費 15.95314359664917 秒\n"
     ]
    }
   ],
   "source": [
    "do_page(5,'軟體')"
   ]
  },
  {
   "cell_type": "code",
   "execution_count": 9,
   "metadata": {},
   "outputs": [],
   "source": [
    "! ls /tmp/hw_data"
   ]
  },
  {
   "cell_type": "code",
   "execution_count": 32,
   "metadata": {},
   "outputs": [
    {
     "data": {
      "text/plain": [
       "['80171344',\n",
       " '80206216',\n",
       " '79737898',\n",
       " '80239860',\n",
       " '77260479',\n",
       " '79847982',\n",
       " '79575979',\n",
       " '80255537',\n",
       " '80051705',\n",
       " '79743030',\n",
       " '80262448',\n",
       " '80262450',\n",
       " '79575980',\n",
       " '79363041',\n",
       " '77339387',\n",
       " '80257821',\n",
       " '71027808',\n",
       " '76812156',\n",
       " '9905027',\n",
       " '76812153',\n",
       " '76812071',\n",
       " '76811939',\n",
       " '76811935',\n",
       " '76811928',\n",
       " '79671280',\n",
       " '79651213',\n",
       " '79795740',\n",
       " '76446573',\n",
       " '77055213',\n",
       " '79934306',\n",
       " '75646146',\n",
       " '75646152',\n",
       " '78540996',\n",
       " '80238207',\n",
       " '56271341',\n",
       " '79960611',\n",
       " '80242007',\n",
       " '80171602',\n",
       " '78354990',\n",
       " '78396317',\n",
       " '77799756',\n",
       " '76780540',\n",
       " '80248293',\n",
       " '80252489',\n",
       " '79572126',\n",
       " '79899900',\n",
       " '53460153',\n",
       " '78539339',\n",
       " '79670757',\n",
       " '75556799',\n",
       " '80236505',\n",
       " '80235106',\n",
       " '76674229',\n",
       " '79638996',\n",
       " '77062108',\n",
       " '76540963',\n",
       " '55960524',\n",
       " '80082108',\n",
       " '80123683',\n",
       " '79918009',\n",
       " '80176566',\n",
       " '80168290',\n",
       " '79959022',\n",
       " '75676137',\n",
       " '71454864',\n",
       " '80032832',\n",
       " '79579884',\n",
       " '80124407',\n",
       " '80224494',\n",
       " '80259247',\n",
       " '80240548',\n",
       " '78395490',\n",
       " '80256609',\n",
       " '80249355',\n",
       " '77217820',\n",
       " '79747603',\n",
       " '77004710',\n",
       " '57745782',\n",
       " '80234477',\n",
       " '78423423',\n",
       " '79740435',\n",
       " '79779058',\n",
       " '80247766',\n",
       " '79668593',\n",
       " '80252227',\n",
       " '80239946',\n",
       " '80172366',\n",
       " '80251747',\n",
       " '75995431',\n",
       " '79657041',\n",
       " '79107565',\n",
       " '67602013',\n",
       " '80214165',\n",
       " '80244051']"
      ]
     },
     "execution_count": 32,
     "metadata": {},
     "output_type": "execute_result"
    }
   ],
   "source": [
    "filelist"
   ]
  },
  {
   "cell_type": "markdown",
   "metadata": {},
   "source": [
    "# 內文清理"
   ]
  },
  {
   "cell_type": "code",
   "execution_count": 33,
   "metadata": {},
   "outputs": [
    {
     "data": {
      "text/plain": [
       "[]"
      ]
     },
     "execution_count": 33,
     "metadata": {},
     "output_type": "execute_result"
    }
   ],
   "source": [
    "words "
   ]
  },
  {
   "cell_type": "code",
   "execution_count": 34,
   "metadata": {},
   "outputs": [],
   "source": [
    "#讀內文\n",
    "\n",
    "for l in filelist:\n",
    "    with open(DATA_PATH + '/' + l) as f:\n",
    "        html = f.read()\n",
    "        soup = BeautifulSoup(html, 'lxml')\n",
    "        data = soup.find_all('div',{'class':'listContent'})\n",
    "        for a in range(len(data)):\n",
    "            words.extend(data[a].text.split('、'))\n",
    "filelist = []"
   ]
  },
  {
   "cell_type": "code",
   "execution_count": 35,
   "metadata": {},
   "outputs": [],
   "source": [
    "#建技能表\n",
    "with open('skill.txt') as sk:\n",
    "    skilllist =  sk.read()\n",
    "skill = skilllist.split('\\n')\n",
    "skill.remove('')"
   ]
  },
  {
   "cell_type": "code",
   "execution_count": 36,
   "metadata": {},
   "outputs": [],
   "source": [
    "# 計次歸零\n",
    "counter = {}\n",
    "for b in skill:\n",
    "    counter[b]=0"
   ]
  },
  {
   "cell_type": "code",
   "execution_count": 37,
   "metadata": {},
   "outputs": [],
   "source": [
    "# 計次\n",
    "def get_skill(list):    \n",
    "    for b in skill:\n",
    "        counter[b] += 0\n",
    "    for a in range(len(list)):\n",
    "        word = list[a]\n",
    "        if word in skill:                            \n",
    "            counter[word]+=1\n",
    "    return counter"
   ]
  },
  {
   "cell_type": "code",
   "execution_count": 38,
   "metadata": {},
   "outputs": [],
   "source": [
    "dictskill = get_skill(words)"
   ]
  },
  {
   "cell_type": "code",
   "execution_count": 39,
   "metadata": {},
   "outputs": [],
   "source": [
    "countskill = sorted(dictskill.items(),key = lambda item:item[1],reverse=True)"
   ]
  },
  {
   "cell_type": "markdown",
   "metadata": {},
   "source": [
    "# 輸出Json 、 CSV"
   ]
  },
  {
   "cell_type": "code",
   "execution_count": 65,
   "metadata": {},
   "outputs": [],
   "source": [
    "def get_json(dict,file):\n",
    "    with open(file, 'w') as f:\n",
    "        json.dump(dict,f)"
   ]
  },
  {
   "cell_type": "code",
   "execution_count": 20,
   "metadata": {},
   "outputs": [],
   "source": [
    "def get_csv(dict,file):\n",
    "    with open(file,'w') as f:\n",
    "        w=csv.writer(f)\n",
    "        # write all keys on one row and all values on the next\n",
    "        w.writerow(dict.keys())\n",
    "        w.writerow(dict.values())"
   ]
  },
  {
   "cell_type": "code",
   "execution_count": 40,
   "metadata": {},
   "outputs": [],
   "source": [
    "def get_tupletocsv(list,file):\n",
    "\n",
    "    with open(file,'w') as out:\n",
    "        csv_out=csv.writer(out)\n",
    "        csv_out.writerow(['技能','數量'])\n",
    "        for row in list:\n",
    "            csv_out.writerow(row)"
   ]
  },
  {
   "cell_type": "code",
   "execution_count": 41,
   "metadata": {},
   "outputs": [],
   "source": [
    "get_tupletocsv(countskill,'軟體.csv')"
   ]
  },
  {
   "cell_type": "code",
   "execution_count": 23,
   "metadata": {},
   "outputs": [],
   "source": [
    "words = []"
   ]
  },
  {
   "cell_type": "code",
   "execution_count": null,
   "metadata": {},
   "outputs": [],
   "source": []
  }
 ],
 "metadata": {
  "kernelspec": {
   "display_name": "Python 3",
   "language": "python",
   "name": "python3"
  },
  "language_info": {
   "codemirror_mode": {
    "name": "ipython",
    "version": 3
   },
   "file_extension": ".py",
   "mimetype": "text/x-python",
   "name": "python",
   "nbconvert_exporter": "python",
   "pygments_lexer": "ipython3",
   "version": "3.6.1"
  }
 },
 "nbformat": 4,
 "nbformat_minor": 2
}
