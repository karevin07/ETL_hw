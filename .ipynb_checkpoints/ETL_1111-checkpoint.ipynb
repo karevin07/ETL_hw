{
 "cells": [
  {
   "cell_type": "markdown",
   "metadata": {},
   "source": [
    "# 1111 爬蟲\n"
   ]
  },
  {
   "cell_type": "code",
   "execution_count": 10,
   "metadata": {
    "collapsed": true
   },
   "outputs": [],
   "source": [
    "import requests\n",
    "import json\n",
    "import re\n",
    "import csv\n",
    "from bs4 import BeautifulSoup\n",
    "import time\n",
    "\n",
    "# 視覺化\n",
    "import matplotlib.pyplot as plt\n",
    "import pandas as pd # 引用套件並縮寫為 pd  \n",
    "\n",
    "from pandas import Series, DataFrame \n",
    "\n",
    "job_url = 'https://www.1111.com.tw/job-bank/job-index.asp?si=1&ks={}&page={}'\n",
    "\n",
    "DATA_PATH = '/tmp/hw_data'\n",
    "filelist = []\n",
    "words = []"
   ]
  },
  {
   "cell_type": "markdown",
   "metadata": {},
   "source": [
    "# 抓出單頁\n"
   ]
  },
  {
   "cell_type": "code",
   "execution_count": 11,
   "metadata": {
    "collapsed": true
   },
   "outputs": [],
   "source": [
    "def get_list_page(url):\n",
    "    \n",
    "    HOST = 'https:'\n",
    "    resp = requests.get(url)\n",
    "    links = re.findall('<a href=\"(//www.1111.com.tw/job/.+/)\" .+>.+</a>', resp.text)\n",
    "    detail_page_links = [HOST + link for link in links]\n",
    "    return detail_page_links    "
   ]
  },
  {
   "cell_type": "code",
   "execution_count": 7,
   "metadata": {
    "collapsed": true
   },
   "outputs": [],
   "source": [
    "!mkdir /tmp/hw_data"
   ]
  },
  {
   "cell_type": "code",
   "execution_count": 6,
   "metadata": {
    "collapsed": true
   },
   "outputs": [],
   "source": [
    "! rm -r -f /tmp/hw_data"
   ]
  },
  {
   "cell_type": "code",
   "execution_count": 12,
   "metadata": {
    "collapsed": true
   },
   "outputs": [],
   "source": [
    "def dump_page(url):  \n",
    "    filename = url.split('/')[-2]\n",
    "    resp = requests.get(url)\n",
    "    with open(DATA_PATH + '/' + filename, 'w') as f:\n",
    "        f.write(resp.text)\n",
    "    return filename"
   ]
  },
  {
   "cell_type": "code",
   "execution_count": 13,
   "metadata": {
    "collapsed": true
   },
   "outputs": [],
   "source": [
    "def get_list(url):\n",
    "    filename = url.split('/')[-2]\n",
    "    filelist.append(filename)"
   ]
  },
  {
   "cell_type": "code",
   "execution_count": 14,
   "metadata": {
    "collapsed": true
   },
   "outputs": [],
   "source": [
    "def do_page(num1 ,a):   \n",
    "    print('職缺 '+a)\n",
    "    print('共抓'+str(num1)+'頁')\n",
    "    count = 0\n",
    "    filelist = []\n",
    "    start = time.time()\n",
    "    for page in range(num1) :\n",
    "        the_url = job_url.format(a,page+1)\n",
    "        for link in get_list_page(the_url):\n",
    "            dump_page(link)\n",
    "            count+=1\n",
    "            get_list(link)\n",
    "    end = time.time()\n",
    "    elapsed = end - start\n",
    "    print('共'+str(count)+'筆職缺')\n",
    "    print(\"花費\", elapsed, \"秒\")"
   ]
  },
  {
   "cell_type": "code",
   "execution_count": 19,
   "metadata": {},
   "outputs": [
    {
     "name": "stdout",
     "output_type": "stream",
     "text": [
      "職缺 ETL\n",
      "共抓50頁\n",
      "共48筆職缺\n",
      "花費 42.89345169067383 秒\n"
     ]
    }
   ],
   "source": [
    "do_page(50,'ETL')"
   ]
  },
  {
   "cell_type": "code",
   "execution_count": 15,
   "metadata": {
    "collapsed": true
   },
   "outputs": [],
   "source": [
    "! ls /tmp/hw_data"
   ]
  },
  {
   "cell_type": "code",
   "execution_count": 164,
   "metadata": {},
   "outputs": [
    {
     "data": {
      "text/plain": [
       "[]"
      ]
     },
     "execution_count": 164,
     "metadata": {},
     "output_type": "execute_result"
    }
   ],
   "source": [
    "filelist"
   ]
  },
  {
   "cell_type": "markdown",
   "metadata": {},
   "source": [
    "# 內文清理"
   ]
  },
  {
   "cell_type": "code",
   "execution_count": 21,
   "metadata": {},
   "outputs": [
    {
     "data": {
      "text/plain": [
       "[]"
      ]
     },
     "execution_count": 21,
     "metadata": {},
     "output_type": "execute_result"
    }
   ],
   "source": [
    "words "
   ]
  },
  {
   "cell_type": "code",
   "execution_count": 22,
   "metadata": {
    "collapsed": true
   },
   "outputs": [],
   "source": [
    "#讀內文\n",
    "\n",
    "for l in filelist:\n",
    "    with open(DATA_PATH + '/' + l) as f:\n",
    "        html = f.read()\n",
    "        soup = BeautifulSoup(html, 'lxml')\n",
    "        data = soup.find_all('div',{'class':'listContent'})\n",
    "        for a in range(len(data)):\n",
    "            words.extend(data[a].text.split('、'))\n",
    "filelist = []"
   ]
  },
  {
   "cell_type": "code",
   "execution_count": 23,
   "metadata": {
    "collapsed": true
   },
   "outputs": [],
   "source": [
    "#建技能表\n",
    "with open('skill.txt') as sk:\n",
    "    skilllist =  sk.read()\n",
    "skill = skilllist.split('\\n')\n",
    "skill.remove('')"
   ]
  },
  {
   "cell_type": "code",
   "execution_count": 24,
   "metadata": {
    "collapsed": true
   },
   "outputs": [],
   "source": [
    "# 計次歸零\n",
    "counter = {}\n",
    "for b in skill:\n",
    "    counter[b]=0"
   ]
  },
  {
   "cell_type": "code",
   "execution_count": 25,
   "metadata": {
    "collapsed": true
   },
   "outputs": [],
   "source": [
    "# 計次\n",
    "def get_skill(list):    \n",
    "    for a in range(len(list)):\n",
    "        word = list[a]\n",
    "        if word in skill:                            \n",
    "            counter[word]+=1\n",
    "    return counter\n"
   ]
  },
  {
   "cell_type": "code",
   "execution_count": 26,
   "metadata": {
    "collapsed": true
   },
   "outputs": [],
   "source": [
    "dictskill = get_skill(words)"
   ]
  },
  {
   "cell_type": "code",
   "execution_count": 28,
   "metadata": {
    "collapsed": true
   },
   "outputs": [],
   "source": [
    "words = []"
   ]
  },
  {
   "cell_type": "code",
   "execution_count": 27,
   "metadata": {
    "collapsed": true
   },
   "outputs": [],
   "source": [
    "# 字典排序（轉成tuple）\n",
    "countskill = sorted(dictskill.items(),key = lambda item:item[1],reverse=True)"
   ]
  },
  {
   "cell_type": "code",
   "execution_count": 158,
   "metadata": {
    "collapsed": true
   },
   "outputs": [],
   "source": [
    "#使用DataFrame\n",
    "thedf = DataFrame([i for i in dictskill.items()],columns = ['技能','數量']) "
   ]
  },
  {
   "cell_type": "code",
   "execution_count": 160,
   "metadata": {
    "collapsed": true
   },
   "outputs": [],
   "source": [
    "#使用DataFrame排序\n",
    "newdf = thedf[thedf.數量 != 0].sort_values([\"數量\"],ascending=False)\n",
    "newdf.index = range(len(newdf))"
   ]
  },
  {
   "cell_type": "code",
   "execution_count": 161,
   "metadata": {},
   "outputs": [
    {
     "data": {
      "text/html": [
       "<div>\n",
       "<style>\n",
       "    .dataframe thead tr:only-child th {\n",
       "        text-align: right;\n",
       "    }\n",
       "\n",
       "    .dataframe thead th {\n",
       "        text-align: left;\n",
       "    }\n",
       "\n",
       "    .dataframe tbody tr th {\n",
       "        vertical-align: top;\n",
       "    }\n",
       "</style>\n",
       "<table border=\"1\" class=\"dataframe\">\n",
       "  <thead>\n",
       "    <tr style=\"text-align: right;\">\n",
       "      <th></th>\n",
       "      <th>技能</th>\n",
       "      <th>數量</th>\n",
       "    </tr>\n",
       "  </thead>\n",
       "  <tbody>\n",
       "    <tr>\n",
       "      <th>10</th>\n",
       "      <td>JAVA</td>\n",
       "      <td>27</td>\n",
       "    </tr>\n",
       "    <tr>\n",
       "      <th>59</th>\n",
       "      <td>MS SQL</td>\n",
       "      <td>26</td>\n",
       "    </tr>\n",
       "    <tr>\n",
       "      <th>61</th>\n",
       "      <td>Oracle</td>\n",
       "      <td>13</td>\n",
       "    </tr>\n",
       "    <tr>\n",
       "      <th>60</th>\n",
       "      <td>MySQL</td>\n",
       "      <td>11</td>\n",
       "    </tr>\n",
       "    <tr>\n",
       "      <th>23</th>\n",
       "      <td>ASP.NET</td>\n",
       "      <td>9</td>\n",
       "    </tr>\n",
       "    <tr>\n",
       "      <th>66</th>\n",
       "      <td>LINUX</td>\n",
       "      <td>8</td>\n",
       "    </tr>\n",
       "    <tr>\n",
       "      <th>26</th>\n",
       "      <td>PHP</td>\n",
       "      <td>8</td>\n",
       "    </tr>\n",
       "    <tr>\n",
       "      <th>39</th>\n",
       "      <td>Obj-C</td>\n",
       "      <td>7</td>\n",
       "    </tr>\n",
       "    <tr>\n",
       "      <th>37</th>\n",
       "      <td>Python</td>\n",
       "      <td>7</td>\n",
       "    </tr>\n",
       "    <tr>\n",
       "      <th>50</th>\n",
       "      <td>jQuery</td>\n",
       "      <td>6</td>\n",
       "    </tr>\n",
       "    <tr>\n",
       "      <th>73</th>\n",
       "      <td>HTML</td>\n",
       "      <td>5</td>\n",
       "    </tr>\n",
       "    <tr>\n",
       "      <th>33</th>\n",
       "      <td>UML</td>\n",
       "      <td>5</td>\n",
       "    </tr>\n",
       "    <tr>\n",
       "      <th>52</th>\n",
       "      <td>Swift</td>\n",
       "      <td>4</td>\n",
       "    </tr>\n",
       "    <tr>\n",
       "      <th>36</th>\n",
       "      <td>HTTP</td>\n",
       "      <td>3</td>\n",
       "    </tr>\n",
       "    <tr>\n",
       "      <th>56</th>\n",
       "      <td>Dbase</td>\n",
       "      <td>3</td>\n",
       "    </tr>\n",
       "    <tr>\n",
       "      <th>0</th>\n",
       "      <td>ASP</td>\n",
       "      <td>3</td>\n",
       "    </tr>\n",
       "    <tr>\n",
       "      <th>25</th>\n",
       "      <td>C#.NET</td>\n",
       "      <td>3</td>\n",
       "    </tr>\n",
       "    <tr>\n",
       "      <th>20</th>\n",
       "      <td>Visual C++</td>\n",
       "      <td>3</td>\n",
       "    </tr>\n",
       "    <tr>\n",
       "      <th>22</th>\n",
       "      <td>XML</td>\n",
       "      <td>3</td>\n",
       "    </tr>\n",
       "    <tr>\n",
       "      <th>34</th>\n",
       "      <td>AJAX</td>\n",
       "      <td>2</td>\n",
       "    </tr>\n",
       "    <tr>\n",
       "      <th>53</th>\n",
       "      <td>Unity</td>\n",
       "      <td>2</td>\n",
       "    </tr>\n",
       "    <tr>\n",
       "      <th>12</th>\n",
       "      <td>JSP</td>\n",
       "      <td>2</td>\n",
       "    </tr>\n",
       "    <tr>\n",
       "      <th>77</th>\n",
       "      <td>CSS</td>\n",
       "      <td>2</td>\n",
       "    </tr>\n",
       "    <tr>\n",
       "      <th>24</th>\n",
       "      <td>VB.NET</td>\n",
       "      <td>2</td>\n",
       "    </tr>\n",
       "    <tr>\n",
       "      <th>51</th>\n",
       "      <td>R語言</td>\n",
       "      <td>2</td>\n",
       "    </tr>\n",
       "    <tr>\n",
       "      <th>55</th>\n",
       "      <td>DB2</td>\n",
       "      <td>1</td>\n",
       "    </tr>\n",
       "    <tr>\n",
       "      <th>58</th>\n",
       "      <td>Informix</td>\n",
       "      <td>1</td>\n",
       "    </tr>\n",
       "    <tr>\n",
       "      <th>1</th>\n",
       "      <td>Assembly</td>\n",
       "      <td>1</td>\n",
       "    </tr>\n",
       "    <tr>\n",
       "      <th>42</th>\n",
       "      <td>MCU</td>\n",
       "      <td>1</td>\n",
       "    </tr>\n",
       "    <tr>\n",
       "      <th>62</th>\n",
       "      <td>SyBase</td>\n",
       "      <td>1</td>\n",
       "    </tr>\n",
       "    <tr>\n",
       "      <th>63</th>\n",
       "      <td>Visual Foxpro</td>\n",
       "      <td>1</td>\n",
       "    </tr>\n",
       "    <tr>\n",
       "      <th>11</th>\n",
       "      <td>JavaScript</td>\n",
       "      <td>1</td>\n",
       "    </tr>\n",
       "    <tr>\n",
       "      <th>67</th>\n",
       "      <td>DHTML</td>\n",
       "      <td>1</td>\n",
       "    </tr>\n",
       "    <tr>\n",
       "      <th>68</th>\n",
       "      <td>Dreamweaver</td>\n",
       "      <td>1</td>\n",
       "    </tr>\n",
       "    <tr>\n",
       "      <th>70</th>\n",
       "      <td>Fireworks</td>\n",
       "      <td>1</td>\n",
       "    </tr>\n",
       "    <tr>\n",
       "      <th>71</th>\n",
       "      <td>FrontPage</td>\n",
       "      <td>1</td>\n",
       "    </tr>\n",
       "    <tr>\n",
       "      <th>8</th>\n",
       "      <td>Delphi</td>\n",
       "      <td>1</td>\n",
       "    </tr>\n",
       "    <tr>\n",
       "      <th>19</th>\n",
       "      <td>VB Script</td>\n",
       "      <td>1</td>\n",
       "    </tr>\n",
       "  </tbody>\n",
       "</table>\n",
       "</div>"
      ],
      "text/plain": [
       "               技能  數量\n",
       "10           JAVA  27\n",
       "59         MS SQL  26\n",
       "61         Oracle  13\n",
       "60          MySQL  11\n",
       "23        ASP.NET   9\n",
       "66          LINUX   8\n",
       "26            PHP   8\n",
       "39          Obj-C   7\n",
       "37         Python   7\n",
       "50         jQuery   6\n",
       "73           HTML   5\n",
       "33            UML   5\n",
       "52          Swift   4\n",
       "36           HTTP   3\n",
       "56          Dbase   3\n",
       "0             ASP   3\n",
       "25         C#.NET   3\n",
       "20     Visual C++   3\n",
       "22            XML   3\n",
       "34           AJAX   2\n",
       "53          Unity   2\n",
       "12            JSP   2\n",
       "77            CSS   2\n",
       "24         VB.NET   2\n",
       "51            R語言   2\n",
       "55            DB2   1\n",
       "58       Informix   1\n",
       "1        Assembly   1\n",
       "42            MCU   1\n",
       "62         SyBase   1\n",
       "63  Visual Foxpro   1\n",
       "11     JavaScript   1\n",
       "67          DHTML   1\n",
       "68    Dreamweaver   1\n",
       "70      Fireworks   1\n",
       "71      FrontPage   1\n",
       "8          Delphi   1\n",
       "19      VB Script   1"
      ]
     },
     "execution_count": 161,
     "metadata": {},
     "output_type": "execute_result"
    }
   ],
   "source": [
    "newdf"
   ]
  },
  {
   "cell_type": "markdown",
   "metadata": {},
   "source": [
    "# 輸出Json 、 CSV"
   ]
  },
  {
   "cell_type": "code",
   "execution_count": 65,
   "metadata": {
    "collapsed": true
   },
   "outputs": [],
   "source": [
    "def get_json(dict,file):\n",
    "    with open(file, 'w') as f:\n",
    "        json.dump(dict,f)"
   ]
  },
  {
   "cell_type": "code",
   "execution_count": 20,
   "metadata": {
    "collapsed": true
   },
   "outputs": [],
   "source": [
    "def get_csv(dict,file):\n",
    "    with open(file,'w') as f:\n",
    "        w=csv.writer(f)\n",
    "        # write all keys on one row and all values on the next\n",
    "        w.writerow(dict.keys())\n",
    "        w.writerow(dict.values())"
   ]
  },
  {
   "cell_type": "code",
   "execution_count": 29,
   "metadata": {
    "collapsed": true
   },
   "outputs": [],
   "source": [
    "def get_tupletocsv(list,file):\n",
    "\n",
    "    with open(file,'w') as out:\n",
    "        csv_out=csv.writer(out)\n",
    "        csv_out.writerow(['技能','數量'])\n",
    "        for row in list:\n",
    "            csv_out.writerow(row)"
   ]
  },
  {
   "cell_type": "code",
   "execution_count": null,
   "metadata": {
    "collapsed": true
   },
   "outputs": [],
   "source": [
    "#DataFrame轉成CSV\n",
    "newdf.to_csv('data/test.csv',index=False)"
   ]
  },
  {
   "cell_type": "code",
   "execution_count": null,
   "metadata": {
    "collapsed": true
   },
   "outputs": [],
   "source": [
    "Y=newdf.loc[0:20,'技能']\n",
    "X=newdf.loc[0:20,'數量']\n",
    "\n",
    "\n",
    "plt.pie(X,labels=Y)\n",
    "plt.title('TOP 20 Tools ')\n",
    "plt.show()"
   ]
  },
  {
   "cell_type": "markdown",
   "metadata": {},
   "source": [
    "# 視覺化"
   ]
  },
  {
   "cell_type": "code",
   "execution_count": 162,
   "metadata": {
    "collapsed": true
   },
   "outputs": [],
   "source": [
    "#用PANDAS開一個CSV\n",
    "df = pd.read_csv('data/程式設計師技能.csv')  "
   ]
  },
  {
   "cell_type": "code",
   "execution_count": 163,
   "metadata": {},
   "outputs": [
    {
     "data": {
      "image/png": "[encoded data removed]",
      "text/plain": [
       "<matplotlib.figure.Figure at 0x7fa0feeb77b8>"
      ]
     },
     "metadata": {},
     "output_type": "display_data"
    }
   ],
   "source": [
    "Y=df.loc[0:20,'技能']\n",
    "X=df.loc[0:20,'數量']\n",
    "\n",
    "\n",
    "plt.pie(X,labels=Y)\n",
    "plt.title('TOP 20 Tools')\n",
    "plt.show()"
   ]
  },
  {
   "cell_type": "code",
   "execution_count": null,
   "metadata": {
    "collapsed": true
   },
   "outputs": [],
   "source": []
  }
 ],
 "metadata": {
  "kernelspec": {
   "display_name": "Python 3",
   "language": "python",
   "name": "python3"
  },
  "language_info": {
   "codemirror_mode": {
    "name": "ipython",
    "version": 3
   },
   "file_extension": ".py",
   "mimetype": "text/x-python",
   "name": "python",
   "nbconvert_exporter": "python",
   "pygments_lexer": "ipython3",
   "version": "3.6.3"
  }
 },
 "nbformat": 4,
 "nbformat_minor": 2
}
